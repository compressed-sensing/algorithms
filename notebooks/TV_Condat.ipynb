{
 "cells": [
  {
   "attachments": {},
   "cell_type": "markdown",
   "metadata": {
    "colab_type": "text",
    "id": "view-in-github"
   },
   "source": [
    "# 1D TV Denosing using Condat Algorithm\n",
    "<a href=\"https://colab.research.google.com/github/compressed-sensing/algorithms/blob/main/notebooks/TV_Condat.ipynb\" target=\"_parent\"><img src=\"https://colab.research.google.com/assets/colab-badge.svg\" alt=\"Open In Colab\"/></a>"
   ]
  },
  {
   "cell_type": "markdown",
   "metadata": {
    "id": "-PrX6BKgHLq-"
   },
   "source": [
    "[Reference](https://lcondat.github.io/software.html)"
   ]
  },
  {
   "cell_type": "code",
   "execution_count": null,
   "metadata": {
    "colab": {
     "base_uri": "https://localhost:8080/"
    },
    "id": "5bncW_LOEXlP",
    "outputId": "344d83c0-7887-41be-a9ec-2aaa4a6ab0d1"
   },
   "outputs": [],
   "source": [
    "%%shell\n",
    "wget https://eeweb.engineering.nyu.edu/iselesni/lecture_notes/TVDmm/TVD_software/blocks.txt\n",
    "wget https://eeweb.engineering.nyu.edu/iselesni/lecture_notes/TVDmm/TVD_software/blocks_noisy.txt"
   ]
  },
  {
   "cell_type": "code",
   "execution_count": null,
   "metadata": {
    "id": "-IgmQxgD299X"
   },
   "outputs": [],
   "source": [
    "import numpy as np\n",
    "import math\n",
    "import matplotlib.pyplot as plt\n",
    "from scipy.sparse import csr_matrix, spdiags, diags, csc_matrix\n",
    "from scipy.sparse.linalg import spsolve\n",
    "from scipy.fftpack import fft, ifft\n",
    "import time\n",
    "import cv2\n",
    "import urllib.request\n",
    "from skimage.metrics import peak_signal_noise_ratio as PSNR"
   ]
  },
  {
   "cell_type": "code",
   "execution_count": null,
   "metadata": {
    "id": "cfoFSI0l3IVr"
   },
   "outputs": [],
   "source": [
    "def TV_Condat_v2(y, lam):\n",
    "    start = time.time()\n",
    "    N = len(y)\n",
    "    if N <= 1:\n",
    "        return y\n",
    "    x = np.zeros_like(y)\n",
    "    cost = np.zeros(N)\n",
    "    indstart_low = np.zeros(N, dtype=int)\n",
    "    indstart_up = np.zeros(N, dtype=int)\n",
    "    j_low = j_up = jseg = indjseg = 0\n",
    "    indstart_low[0] = indstart_up[0] = 0\n",
    "    x_low_first = y[0] - lam\n",
    "    x_up_first = y[0] + lam\n",
    "    x_low_curr = x_low_first\n",
    "    x_up_curr = x_up_first\n",
    "    cost[0] = 0.5 * np.sum(np.abs(x - y) ** 2) + lam * np.sum(np.abs(np.diff(x)))\n",
    "    for i in range(1, N - 1):\n",
    "        if y[i] >= x_low_curr:\n",
    "            if y[i] <= x_up_curr:\n",
    "                x_up_curr = x_up_curr + (y[i] - x_up_curr) / (i - indstart_up[j_up] + 1)\n",
    "                x[indjseg] = x_up_first\n",
    "                while j_up > jseg and x_up_curr <= x[indstart_up[j_up - 1]]:\n",
    "                    j_up -= 1\n",
    "                    x_up_curr = x[indstart_up[j_up]] + (\n",
    "                        x_up_curr - x[indstart_up[j_up]]\n",
    "                    ) * ((i - indstart_up[j_up + 1] + 1) / (i - indstart_up[j_up] + 1))\n",
    "                if j_up == jseg:\n",
    "                    while x_up_curr <= x_low_first and jseg < j_low:\n",
    "                        jseg += 1\n",
    "                        x[indjseg : indstart_low[jseg] - 1] = x_low_first\n",
    "                        x_up_curr = x_up_curr + (x_up_curr - x_low_first) * (\n",
    "                            (indstart_low[jseg] - indjseg)\n",
    "                            / (i - indstart_low[jseg] + 1)\n",
    "                        )\n",
    "                        indjseg = indstart_low[jseg]\n",
    "                        x_low_first = x[indjseg]\n",
    "                    x_up_first = x_up_curr\n",
    "                    j_up = jseg\n",
    "                    indstart_up[jseg] = indjseg\n",
    "                else:\n",
    "                    x[indstart_up[j_up]] = x_up_curr\n",
    "            else:\n",
    "                j_up += 1\n",
    "                indstart_up[j_up] = i\n",
    "                x[i] = y[i]\n",
    "                x_up_curr = x[i]\n",
    "            x_low_curr = x_low_curr + (y[i] - x_low_curr) / (\n",
    "                i - indstart_low[j_low] + 1\n",
    "            )\n",
    "            x[indjseg] = x_low_first\n",
    "            while j_low > jseg and x_low_curr >= x[indstart_low[j_low - 1]]:\n",
    "                j_low -= 1\n",
    "                x_low_curr = x[indstart_low[j_low]] + (\n",
    "                    x_low_curr - x[indstart_low[j_low]]\n",
    "                ) * ((i - indstart_low[j_low + 1] + 1) / (i - indstart_low[j_low] + 1))\n",
    "            if j_low == jseg:\n",
    "                while x_low_curr >= x_up_first and jseg < j_up:\n",
    "                    jseg += 1\n",
    "                    x[indjseg : indstart_up[jseg] - 1] = x_up_first\n",
    "                    x_low_curr = x_low_curr + (x_low_curr - x_up_first) * (\n",
    "                        (indstart_up[jseg] - indjseg) / (i - indstart_up[jseg] + 1)\n",
    "                    )\n",
    "                    indjseg = indstart_up[jseg]\n",
    "                    x_up_first = x[indjseg]\n",
    "                x_low_first = x_low_curr\n",
    "                j_low = jseg\n",
    "                indstart_low[jseg] = indjseg\n",
    "                if indjseg == i:\n",
    "                    x_low_first = x_up_first - 2 * lam\n",
    "            else:\n",
    "                x[indstart_low[j_low]] = x_low_curr\n",
    "        else:\n",
    "            j_low = j_low + 1\n",
    "            indstart_low[j_low] = i\n",
    "            x[i] = y[i]\n",
    "            x_low_curr = x[i]\n",
    "\n",
    "            # fusion of x_up to keep it nondecreasing\n",
    "            x_up_curr = x_up_curr + (y[i] - x_up_curr) / (i - indstart_up[j_up] + 1)\n",
    "            x[indjseg] = x_up_first\n",
    "\n",
    "            while j_up > jseg and x_up_curr <= x[indstart_up[j_up - 1]]:\n",
    "                j_up = j_up - 1\n",
    "                x_up_curr = x[indstart_up[j_up]] + (\n",
    "                    x_up_curr - x[indstart_up[j_up]]\n",
    "                ) * ((i - indstart_up[j_up + 1] + 1) / (i - indstart_up[j_up] + 1))\n",
    "            if j_up == jseg:\n",
    "                # a jump in x downwards is possible\n",
    "                while x_up_curr <= x_low_first and jseg < j_low:\n",
    "                    # validation of segments of x_low in x\n",
    "                    jseg += 1\n",
    "                    x[indjseg : indstart_low[jseg] - 1] = x_low_first\n",
    "                    x_up_curr = x_up_curr + (x_up_curr - x_low_first) * (\n",
    "                        (indstart_low[jseg] - indjseg) / (i - indstart_low[jseg] + 1)\n",
    "                    )\n",
    "                    indjseg = indstart_low[jseg]\n",
    "                    x_low_first = x[indjseg]\n",
    "                x_up_first = x_up_curr\n",
    "                j_up = jseg\n",
    "                indstart_up[jseg] = indjseg\n",
    "                if indjseg == i:\n",
    "                    # this part is not mandatory, it is a kind of reset to increase numerical robustness.\n",
    "                    x_up_first = x_low_first + 2 * lam\n",
    "            else:\n",
    "                x[indstart_up[j_up]] = x_up_curr\n",
    "        cost[i] = 0.5 * np.sum(np.abs(x - y) ** 2) + lam * np.sum(np.abs(np.diff(x)))\n",
    "    i = N - 1\n",
    "    if y[i] + lam <= x_low_curr:\n",
    "        # the segments of x_low are validated\n",
    "        while jseg < j_low:\n",
    "            jseg += 1\n",
    "            x[indjseg : indstart_low[jseg] - 1] = x_low_first\n",
    "            indjseg = indstart_low[jseg]\n",
    "            x_low_first = x[indjseg]\n",
    "        x[indjseg : i - 1] = x_low_first\n",
    "        x[i] = y[i] + lam\n",
    "    elif y[i] - lam >= x_up_curr:\n",
    "        while jseg < j_up:\n",
    "            jseg += 1\n",
    "            x[indjseg : indstart_up[jseg] - 1] = x_up_first\n",
    "            indjseg = indstart_up[jseg]\n",
    "            x_up_first = x[indjseg]\n",
    "\n",
    "        x[indjseg : i - 1] = x_up_first\n",
    "        x[i] = y[i] - lam\n",
    "    else:\n",
    "        x_low_curr = x_low_curr + (y[i] + lam - x_low_curr) / (\n",
    "            i - indstart_low[j_low] + 1\n",
    "        )\n",
    "        x[indjseg] = x_low_first\n",
    "        while j_low > jseg and x_low_curr >= x[indstart_low[j_low - 1]]:\n",
    "            j_low -= 1\n",
    "            x_low_curr = x[indstart_low[j_low]] + (\n",
    "                x_low_curr - x[indstart_low[j_low]]\n",
    "            ) * ((i - indstart_low[j_low + 1] + 1) / (i - indstart_low[j_low] + 1))\n",
    "        if j_low == jseg:\n",
    "            if x_up_first >= x_low_curr:\n",
    "                x[indjseg:i] = x_low_curr\n",
    "            else:\n",
    "                x_up_curr = x_up_curr + (y[i] - lam - x_up_curr) / (\n",
    "                    i - indstart_up[j_up] + 1\n",
    "                )\n",
    "                x[indjseg] = x_up_first\n",
    "                while j_up > jseg and x_up_curr <= x[indstart_up[j_up - 1]]:\n",
    "                    j_up = j_up - 1\n",
    "                    x_up_curr = x[indstart_up[j_up]] + (\n",
    "                        x_up_curr - x[indstart_up[j_up]]\n",
    "                    ) * ((i - indstart_up[j_up + 1] + 1) / (i - indstart_up[j_up] + 1))\n",
    "                x[indstart_up[j_up] : i] = x_up_curr\n",
    "                while jseg < j_up:\n",
    "                    jseg = jseg + 1\n",
    "                    x[indjseg : indstart_up[jseg] - 1] = x_up_first\n",
    "                    indjseg = indstart_up[jseg]\n",
    "                    x_up_first = x[indjseg]\n",
    "        else:\n",
    "            x[indstart_low[j_low] : i] = x_low_curr\n",
    "            while jseg < j_low:\n",
    "                jseg = jseg + 1\n",
    "                x[indjseg : indstart_low[jseg] - 1] = x_low_first\n",
    "                indjseg = indstart_low[jseg]\n",
    "                x_low_first = x[indjseg]\n",
    "    cost[N - 1] = 0.5 * np.sum(np.abs(x - y) ** 2) + lam * np.sum(np.abs(np.diff(x)))\n",
    "    end = time.time()\n",
    "    return x, cost, end - start"
   ]
  },
  {
   "cell_type": "code",
   "execution_count": null,
   "metadata": {
    "id": "NChnpW6KEUap"
   },
   "outputs": [],
   "source": [
    "s = np.loadtxt(\"blocks.txt\")\n",
    "y = np.loadtxt(\"blocks_noisy.txt\")"
   ]
  },
  {
   "cell_type": "code",
   "execution_count": null,
   "metadata": {
    "id": "aeKe7OFAEczE"
   },
   "outputs": [],
   "source": [
    "N = 256\n",
    "# N : signal length\n",
    "sigma = 0.5;  # sigma : standard deviation of noise"
   ]
  },
  {
   "cell_type": "code",
   "execution_count": null,
   "metadata": {
    "colab": {
     "base_uri": "https://localhost:8080/",
     "height": 485
    },
    "id": "Tk2KddeCEe0H",
    "outputId": "582d5302-d441-4f7d-b15d-feba7d12b495"
   },
   "outputs": [],
   "source": [
    "fig, axs = plt.subplots(1, 2, figsize=(15, 5))\n",
    "axs[0].plot(s)\n",
    "axs[0].set_title(\"original signal\")\n",
    "axs[1].plot(y)\n",
    "axs[1].set_title(\"noisy signal\")"
   ]
  },
  {
   "cell_type": "code",
   "execution_count": null,
   "metadata": {
    "colab": {
     "base_uri": "https://localhost:8080/",
     "height": 298
    },
    "id": "JXTz5dVGEjKT",
    "outputId": "b994ff00-5ea1-41f9-a210-35c59b259b43"
   },
   "outputs": [],
   "source": [
    "lam = 3.0\n",
    "x_condat, cost_condat, time_taken = TV_Condat_v2(y, lam)\n",
    "fig, axs = plt.subplots(1, 4, figsize=(30, 5))\n",
    "axs[0].plot(s)\n",
    "axs[0].set_title(\"original signal\")\n",
    "axs[1].plot(y)\n",
    "axs[1].set_title(\"noisy signal\")\n",
    "axs[2].plot(x_condat)\n",
    "axs[2].set_title(\"recovered signal\")\n",
    "axs[3].plot(cost_condat)\n",
    "axs[3].set_title(\"cost graph\")\n",
    "print(f\"Time taken = {time_taken}\")"
   ]
  },
  {
   "cell_type": "code",
   "execution_count": null,
   "metadata": {
    "colab": {
     "base_uri": "https://localhost:8080/",
     "height": 447
    },
    "id": "vUKUtpz2rsiO",
    "outputId": "3cd15fc4-36f2-478a-fc68-f7b56985499e"
   },
   "outputs": [],
   "source": [
    "plt.plot(x_condat)\n",
    "# plt.axis('off')"
   ]
  },
  {
   "cell_type": "code",
   "execution_count": null,
   "metadata": {
    "id": "rLjewrah28L7"
   },
   "outputs": [],
   "source": [
    "def awgn(image, sigma_n):\n",
    "    noise = np.random.randn(image.shape[0], image.shape[1]) * sigma_n\n",
    "    return image + noise"
   ]
  },
  {
   "cell_type": "code",
   "execution_count": null,
   "metadata": {
    "id": "LGymn_ZNzo6J"
   },
   "outputs": [],
   "source": [
    "def wrapper_condat(y):\n",
    "    img_, _, __ = TV_Condat_v2(y, lam)\n",
    "    return img_"
   ]
  },
  {
   "cell_type": "code",
   "execution_count": null,
   "metadata": {
    "id": "0fWfsikIluQN"
   },
   "outputs": [],
   "source": [
    "def ADRA_algorithm(img):\n",
    "    rows_denoise = np.apply_along_axis(wrapper_condat, 0, img)\n",
    "    # cols_denoise = np.apply_along_axis(wrapper_condat, 1, img)\n",
    "    denoised = img.copy()\n",
    "    # Compute the adaptive weights\n",
    "    for i in range(0):\n",
    "        row_var = np.apply_along_axis(np.var, axis=1, arr=rows_denoise, ddof=1)\n",
    "        # col_var = np.apply_along_axis(np.var, axis=1, arr=cols_denoise, ddof=1)\n",
    "        # row_weight = 1 / (1 + row_var)\n",
    "        # col_weight = 1 / (1 + col_var)\n",
    "        # denoised = (rows_denoise * col_weight) + (cols_denoise * row_weight)\n",
    "        rows_denoise = np.apply_along_axis(wrapper_condat, 0, rows_denoise)\n",
    "        # cols_denoise = np.apply_along_axis(wrapper_condat, 1, cols_denoise)\n",
    "    return rows_denoise"
   ]
  },
  {
   "cell_type": "code",
   "execution_count": null,
   "metadata": {
    "id": "-GAYrM1n0wWs"
   },
   "outputs": [],
   "source": [
    "url = \"https://images.unsplash.com/photo-1664039591926-c1d776028289?ixlib=rb-4.0.3&ixid=MnwxMjA3fDB8MHxwaG90by1wYWdlfHx8fGVufDB8fHx8&auto=format&fit=crop&w=2022&q=80\"\n",
    "with urllib.request.urlopen(url) as url_response:\n",
    "    img_array = np.asarray(bytearray(url_response.read()), dtype=np.uint8)\n",
    "    img_gray = cv2.imdecode(img_array, cv2.IMREAD_GRAYSCALE)"
   ]
  },
  {
   "cell_type": "code",
   "execution_count": null,
   "metadata": {
    "id": "53_bQ8Ye1fWT"
   },
   "outputs": [],
   "source": [
    "img = cv2.resize(img_gray, (512, 512), interpolation=cv2.INTER_AREA)\n",
    "img = img / img.max()"
   ]
  },
  {
   "cell_type": "code",
   "execution_count": null,
   "metadata": {
    "id": "tFLfyol93Fw2"
   },
   "outputs": [],
   "source": [
    "noisy_img = awgn(img, 0.1)"
   ]
  },
  {
   "cell_type": "code",
   "execution_count": null,
   "metadata": {
    "colab": {
     "base_uri": "https://localhost:8080/",
     "height": 485
    },
    "id": "iP9qmib53bHB",
    "outputId": "f4410002-15db-434f-c374-ea9cd090b87c"
   },
   "outputs": [],
   "source": [
    "fig, axs = plt.subplots(1, 2, figsize=(15, 5))\n",
    "axs[0].imshow(img, cmap=\"gray\")\n",
    "axs[0].set_title(\"original signal\")\n",
    "axs[1].imshow(noisy_img, cmap=\"gray\")\n",
    "axs[1].set_title(\"noisy signal\")"
   ]
  },
  {
   "cell_type": "code",
   "execution_count": null,
   "metadata": {
    "colab": {
     "base_uri": "https://localhost:8080/",
     "height": 375
    },
    "id": "qK-OPo0W3w23",
    "outputId": "13ee6cbc-3d86-4696-c994-209e44cc01ad"
   },
   "outputs": [],
   "source": [
    "denoised_img = ADRA_algorithm(noisy_img)\n",
    "fig, axs = plt.subplots(1, 4, figsize=(30, 5))\n",
    "axs[0].imshow(img, cmap=\"gray\")\n",
    "axs[0].set_title(\"original signal\")\n",
    "axs[1].imshow(noisy_img, cmap=\"gray\")\n",
    "axs[1].set_title(\"noisy signal\")\n",
    "axs[2].imshow(denoised_img, cmap=\"gray\")\n",
    "axs[2].set_title(\"recovered signal\")\n",
    "# axs[3].plot(cost_condat)\n",
    "# axs[3].set_title(\"cost graph\")\n",
    "# print(f\"Time taken = {time_taken}\")\n",
    "print(f\"noisy_img psnr = {PSNR(img.clip(0,1), noisy_img.clip(0,1))}\")\n",
    "print(f\"noisy_img psnr = {PSNR(img.clip(0,1), denoised_img.clip(0,1))}\")"
   ]
  },
  {
   "cell_type": "code",
   "execution_count": null,
   "metadata": {
    "id": "od5dll1AjZnl"
   },
   "outputs": [],
   "source": [
    "def adra_1d(image):\n",
    "    # Initialize variables\n",
    "    x = np.copy(image)\n",
    "    s = np.copy(image)\n",
    "    gamma = 1.0\n",
    "\n",
    "    # Denoise rows\n",
    "    for j in range(image.shape[0]):\n",
    "        x[j, :] = wrapper_condat(x[j, :])\n",
    "\n",
    "    # Denoise columns\n",
    "    for k in range(image.shape[1]):\n",
    "        s[:, k] = wrapper_condat(s[:, k])\n",
    "\n",
    "    # Update x using ADRA formula\n",
    "\n",
    "    return s + x"
   ]
  },
  {
   "cell_type": "code",
   "execution_count": null,
   "metadata": {
    "id": "yOyyed5Njgls"
   },
   "outputs": [],
   "source": [
    "denoised_img = adra_1d(noisy_img)\n",
    "fig, axs = plt.subplots(1, 4, figsize=(30, 5))\n",
    "axs[0].imshow(img, cmap=\"gray\")\n",
    "axs[0].set_title(\"original signal\")\n",
    "axs[1].imshow(noisy_img, cmap=\"gray\")\n",
    "axs[1].set_title(\"noisy signal\")\n",
    "axs[2].imshow(denoised_img, cmap=\"gray\")\n",
    "axs[2].set_title(\"recovered signal\")\n",
    "# axs[3].plot(cost_condat)\n",
    "# axs[3].set_title(\"cost graph\")\n",
    "# print(f\"Time taken = {time_taken}\")\n",
    "print(f\"noisy_img psnr = {PSNR(img.clip(0,1), noisy_img.clip(0,1))}\")\n",
    "print(f\"noisy_img psnr = {PSNR(img.clip(0,1), denoised_img.clip(0,1))}\")"
   ]
  }
 ],
 "metadata": {
  "colab": {
   "include_colab_link": true,
   "provenance": []
  },
  "kernelspec": {
   "display_name": "Python 3",
   "name": "python3"
  },
  "language_info": {
   "name": "python"
  }
 },
 "nbformat": 4,
 "nbformat_minor": 0
}
