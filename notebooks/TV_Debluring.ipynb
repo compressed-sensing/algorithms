{
 "cells": [
  {
   "attachments": {},
   "cell_type": "markdown",
   "id": "cc52b043",
   "metadata": {
    "colab_type": "text",
    "id": "view-in-github"
   },
   "source": [
    "# 2D Total variation deblurring\n",
    "<a href=\"https://colab.research.google.com/github/compressed-sensing/algorithms/blob/feature%2Fnotebooks/notebooks/TV_Debluring.ipynb\" target=\"_parent\"><img src=\"https://colab.research.google.com/assets/colab-badge.svg\" alt=\"Open In Colab\"/></a>"
   ]
  },
  {
   "attachments": {},
   "cell_type": "markdown",
   "id": "d21c5139",
   "metadata": {
    "id": "d21c5139"
   },
   "source": [
    "\n",
    "\n",
    "Our signal model:\n",
    "$$y = h \\ast x + \\omega \\quad \\text{where} \\quad w\\sim\\mathcal{N}(0,\\sigma^2I).$$"
   ]
  },
  {
   "cell_type": "code",
   "execution_count": null,
   "id": "81691a78",
   "metadata": {
    "id": "81691a78"
   },
   "outputs": [],
   "source": [
    "import numpy as np\n",
    "import cv2\n",
    "from matplotlib import pyplot as plt\n",
    "import scipy.signal as signal\n",
    "import scipy.fft as fft\n",
    "import urllib.request"
   ]
  },
  {
   "cell_type": "code",
   "execution_count": null,
   "id": "u1Iin8-0_XFf",
   "metadata": {
    "colab": {
     "base_uri": "https://localhost:8080/",
     "height": 489
    },
    "id": "u1Iin8-0_XFf",
    "outputId": "e7817537-7527-43da-a1ce-37205247aa0d"
   },
   "outputs": [],
   "source": [
    "# Reading image (grayscale)\n",
    "url = \"https://i.stack.imgur.com/kP0u2.png\"\n",
    "# url='https://encrypted-tbn0.gstatic.com/images?q=tbn:ANd9GcSRsK5QFJ1arEQlnHEJ-020xbO30BgdYgPJBg&usqp=CAU'\n",
    "# url='https://unsplash.com/photos/IoZA1Mwiq2g/download?ixid=MnwxMjA3fDB8MXxzZWFyY2h8MTZ8fGJsYWNrJTIwYW5kJTIwd2hpdGUlMjBmbG93ZXJ8ZW58MHx8fHwxNjc5MzQxODY4&force=true&w=640'\n",
    "with urllib.request.urlopen(url) as url_response:\n",
    "    img_array = np.asarray(bytearray(url_response.read()), dtype=np.uint8)\n",
    "    img = cv2.imdecode(img_array, cv2.IMREAD_GRAYSCALE)\n",
    "# img is a 3-dimensional numpy array (third number indicates channel)\n",
    "x = img.astype(float) / 255.0\n",
    "print(type(img))\n",
    "print(img.shape)\n",
    "plt.imshow(x, cmap=\"gray\")"
   ]
  },
  {
   "cell_type": "code",
   "execution_count": null,
   "id": "69a0225f",
   "metadata": {
    "id": "69a0225f"
   },
   "outputs": [],
   "source": [
    "### Define some of the operators that we need...\n",
    "def conv2d_fft(x, h):\n",
    "    p0 = x.shape[0] - h.shape[0]\n",
    "    p1 = x.shape[1] - h.shape[1]\n",
    "    h_pad = np.pad(h, ((0, p0), (0, p1)))\n",
    "    Fh = fft.fft2(h_pad)\n",
    "    Fx = fft.fft2(x)\n",
    "    return np.real(fft.ifft2(Fx * Fh))\n",
    "\n",
    "\n",
    "def conv2dT_fft(x, h):\n",
    "    p0 = x.shape[0] - h.shape[0]\n",
    "    p1 = x.shape[1] - h.shape[1]\n",
    "    h_pad = np.pad(h, ((0, p0), (0, p1)))\n",
    "    Fh = fft.fft2(h_pad)\n",
    "    Fx = fft.fft2(x)\n",
    "    return np.real(fft.ifft2(Fx * np.conj(Fh)))"
   ]
  },
  {
   "cell_type": "code",
   "execution_count": null,
   "id": "9f5222e6",
   "metadata": {
    "colab": {
     "base_uri": "https://localhost:8080/",
     "height": 362
    },
    "id": "9f5222e6",
    "outputId": "35b8bbf6-b598-4e6b-b9ed-e85ceff2ef9d"
   },
   "outputs": [],
   "source": [
    "# the blurring kernel\n",
    "h = np.ones([7, 7])\n",
    "h /= h.sum()\n",
    "# Make image blurry\n",
    "h = cv2.getGaussianKernel(9, 2)\n",
    "h = np.dot(h, h.T)\n",
    "\n",
    "H = lambda x: conv2d_fft(x, h)\n",
    "HT = lambda x: conv2dT_fft(x, h)\n",
    "\n",
    "# form the observed image\n",
    "sigma = 5.0 / 255.0\n",
    "y = H(x) + (sigma**2) * np.random.randn(*x.shape)\n",
    "\n",
    "fig = plt.figure()\n",
    "plt.subplot(121)\n",
    "plt.imshow(x, cmap=\"gray\", clim=[0, 1])\n",
    "plt.title(\"image x\")\n",
    "plt.subplot(122)\n",
    "plt.imshow(y, cmap=\"gray\", clim=[0, 1])\n",
    "plt.title(\"blurry image\")\n",
    "# plt.imshow(y, cmap='gray', clim=[0,1])\n",
    "# plt.title('y = h * x + w')\n",
    "plt.tight_layout()\n",
    "plt.show()\n",
    "print(y.shape)"
   ]
  },
  {
   "cell_type": "code",
   "execution_count": null,
   "id": "93b0dbec",
   "metadata": {
    "colab": {
     "base_uri": "https://localhost:8080/",
     "height": 242
    },
    "id": "93b0dbec",
    "outputId": "42d49f9e-f7e9-4789-bbf2-25c2b6222547"
   },
   "outputs": [],
   "source": [
    "# define gradient operators\n",
    "dh = np.array([[1, -1], [0, 0]])  # horizontal gradient filter\n",
    "dv = np.array([[1, 0], [-1, 0]])  # vertical gradient filter\n",
    "\n",
    "Dh = lambda x: conv2d_fft(x, dh)\n",
    "Dv = lambda x: conv2d_fft(x, dv)\n",
    "\n",
    "DhT = lambda x: conv2dT_fft(x, dh)\n",
    "DvT = lambda x: conv2dT_fft(x, dv)\n",
    "\n",
    "# plot the image x and the gradient images Dh x and Dv x\n",
    "fig = plt.figure()\n",
    "plt.subplot(131)\n",
    "plt.imshow(x, cmap=\"gray\", clim=[0, 1])\n",
    "plt.title(\"image x\")\n",
    "plt.subplot(132)\n",
    "plt.imshow(np.abs(Dh(y)), cmap=\"gray\", clim=[0, 1])\n",
    "plt.title(r\"$|D_hx|$\")\n",
    "plt.subplot(133)\n",
    "plt.imshow(np.abs(Dv(y)), cmap=\"gray\", clim=[0, 1])\n",
    "plt.title(r\"$|D_vx|$\")\n",
    "plt.tight_layout()\n",
    "plt.show()"
   ]
  },
  {
   "cell_type": "markdown",
   "id": "9dfaaca4",
   "metadata": {
    "id": "9dfaaca4"
   },
   "source": [
    "## TV-debluring problem formulation\n",
    "\n",
    "Problem formulation:\n",
    "\n",
    "$$\\underset{x}{\\mathrm{minimize}}~~\\underbrace{\\frac{\\mu}{2} \\|y - Hx\\|_2^2}_{\\text{data fidelity}} +\\underbrace{ \\left\\| D x \\right\\|_1}_{\\text{regularization: sparse gradient}}$$\n",
    "\n",
    "where $D = \\begin{bmatrix}D_h\\\\D_v\\end{bmatrix}$. A quick note on the TV-norm: there are two types of TV-norm usually used in the literature:\n",
    "\n",
    "$$\\begin{cases}\\text{anisotropic:  } &\\|Dx\\|_1 = \\sum_i \\left|(D_h x)_i\\right|+\\left|(D_v x)_i\\right| \\\\ \\\\ \\text{isotropic:  } &\\|Dx\\|_{TV2} = \\sum_i \\sqrt{(D_h x)_i^2+(D_v x)_i^2}\\end{cases}$$\n",
    "\n",
    "we are using anisotropic TV-norm for our formulation. You can read more about the both cases in [this paper](https://ieeexplore.ieee.org/stamp/stamp.jsp?arnumber=5779734).\n",
    "\n",
    "#### Let's derive ADMM iterations!\n",
    "\n",
    "Problem in ADMM form:\n",
    "\n",
    "$$\\underset{x,z}{\\mathrm{minimize}}~~\\frac{\\mu}{2} \\|y - Hx\\|_2^2 +\\|z\\|_1, \\quad \\text{subject to:}\\quad Dx - z = 0$$\n",
    "\n",
    "The augmented Lagrangian:\n",
    "\n",
    "$$\\mathcal{L}(x,z,u) = \\frac{\\mu}{2} \\|y - Hx\\|_2^2 +\\|z\\|_1 + \\frac{\\rho}{2} \\|Dx - z + u\\|_2^2$$\n",
    "\n",
    "ADMM iterations:\n",
    "\n",
    "- for $k = 1, \\cdots, K$:\n",
    "    -  update $x$:\n",
    "    \n",
    "    $$x^{k+1} \\leftarrow \\arg\\min_{x}~\\mathcal{L}(x,z^k,u^k) \\equiv \\arg\\min_{x}~ \\frac{\\mu}{2} \\|y - Hx\\|_2^2 + \\frac{\\rho}{2} \\|Dx - z^{k} + u^{k}\\|_2^2 $$\n",
    "    \n",
    "    - update $z$:\n",
    "    \n",
    "    $$z^{k+1} \\leftarrow \\arg\\min_{z}~\\mathcal{L}(x^{k+1},z,u^k) \\equiv \\arg\\min_{z}~ \\frac{\\mu}{2} \\|z\\|_1 + \\frac{\\rho}{2} \\|z - (Dx^{k+1} + u^{k})\\|_2^2 $$ \n",
    "\n",
    "\n",
    "    - update $u$:\n",
    "    \n",
    "    $$u^{k+1} \\leftarrow u^{k} + \\rho (Dx^{k+1} - z^{k+1}) $$"
   ]
  },
  {
   "cell_type": "code",
   "execution_count": null,
   "id": "c81f1d27",
   "metadata": {
    "id": "c81f1d27"
   },
   "outputs": [],
   "source": [
    "# a TV-deblurring solver\n",
    "def TV_debluring(y, h, mu=1e3, rho=1e1, maxiter=200):\n",
    "    \"\"\"\n",
    "    TV-deblurring solver to solve\n",
    "    minimize 0.5 mu |y-Hx|_2^2 + |Dx|_1\n",
    "    \"\"\"\n",
    "    # define the soft-thresholding function\n",
    "    soft_thresh = lambda v, t: np.maximum(np.abs(v) - t, 0.0) * np.sign(v)\n",
    "    # initilize our operators\n",
    "    H = lambda x: conv2d_fft(x, h)\n",
    "    HT = lambda x: conv2dT_fft(x, h)\n",
    "    # the HHT can be computed using fft2\n",
    "    p0 = x.shape[0] - h.shape[0]\n",
    "    p1 = x.shape[1] - h.shape[1]\n",
    "    h_pad = np.pad(h, ((0, p0), (0, p1)))\n",
    "    HHT = np.abs(fft.fft2(h_pad)) ** 2\n",
    "\n",
    "    # define gradient operators\n",
    "    dh = np.array([[1, -1], [0, 0]])  # horizontal gradient filter\n",
    "    dv = np.array([[1, 0], [-1, 0]])  # vertical gradient filter\n",
    "\n",
    "    Dh = lambda x: conv2d_fft(x, dh)\n",
    "    Dv = lambda x: conv2d_fft(x, dv)\n",
    "\n",
    "    DhT = lambda x: conv2dT_fft(x, dh)\n",
    "    DvT = lambda x: conv2dT_fft(x, dv)\n",
    "\n",
    "    # DDT\n",
    "    p0 = x.shape[0] - dh.shape[0]\n",
    "    p1 = x.shape[1] - dh.shape[1]\n",
    "    dh_pad = np.pad(dh, ((0, p0), (0, p1)))\n",
    "\n",
    "    p0 = x.shape[0] - dv.shape[0]\n",
    "    p1 = x.shape[1] - dv.shape[1]\n",
    "    dv_pad = np.pad(dv, ((0, p0), (0, p1)))\n",
    "\n",
    "    DDT = np.abs(fft.fft2(dh_pad)) ** 2 + np.abs(fft.fft2(dv_pad)) ** 2\n",
    "\n",
    "    # initilize iteration variables\n",
    "    zh = np.zeros_like(y)\n",
    "    zv = np.zeros_like(y)\n",
    "    uh = np.zeros_like(zh)\n",
    "    uv = np.zeros_like(zv)\n",
    "    x_hat = np.zeros_like(y)\n",
    "    J = np.zeros(maxiter)\n",
    "\n",
    "    for k in range(maxiter):\n",
    "        # solve the L2-L2 problem\n",
    "        rhs = mu * HT(y) + rho * (DhT(zh) + DvT(zv)) - DhT(uh) - DvT(uv)\n",
    "        F_rhs = fft.fft2(rhs)\n",
    "        x_hat = np.real(fft.ifft2(F_rhs / (rho * DDT + mu * HHT)))\n",
    "\n",
    "        # solve the TV problem\n",
    "        zh = soft_thresh(Dh(x_hat) + (1.0 / rho) * uh, 1.0 / rho)\n",
    "        zv = soft_thresh(Dv(x_hat) + (1.0 / rho) * uv, 1.0 / rho)\n",
    "\n",
    "        # update u\n",
    "        dual_h = rho * (zh - Dh(x_hat))\n",
    "        dual_v = rho * (zv - Dv(x_hat))\n",
    "        uh = uh - dual_h\n",
    "        uv = uv - dual_v\n",
    "\n",
    "        # compute the error\n",
    "        J[k] = (dual_h**2).sum() + (dual_v**2).sum()\n",
    "    return x_hat, J"
   ]
  },
  {
   "cell_type": "code",
   "execution_count": null,
   "id": "894689cb",
   "metadata": {
    "colab": {
     "base_uri": "https://localhost:8080/",
     "height": 545
    },
    "id": "894689cb",
    "outputId": "42f07fc5-824b-48d7-d844-9c4b708cd9eb"
   },
   "outputs": [],
   "source": [
    "x_hat, J = TV_debluring(y, h, mu=1, rho=2, maxiter=50)\n",
    "\n",
    "fig = plt.figure()\n",
    "fig.set_size_inches(5, 7.5)\n",
    "ax = fig.add_subplot(321)\n",
    "ax.imshow(x, cmap=\"gray\", clim=[0, 1])\n",
    "plt.title(\"original signal x\")\n",
    "ax2 = fig.add_subplot(322)\n",
    "ax2.imshow(y, cmap=\"gray\", clim=[0, 1])\n",
    "plt.title(\"y = h * x + w\")\n",
    "ax3 = fig.add_subplot(323)\n",
    "ax3.imshow(x_hat, cmap=\"gray\", clim=[0, 1])\n",
    "plt.title(r\"recovered $\\hat{x}$\")\n",
    "ax4 = fig.add_subplot(324)\n",
    "ax4.semilogy(range(len(J)), J, \"b-\", lw=2)\n",
    "plt.title(r\"$\\|u^{k+1}-u^{k}\\|_2^2$\")\n",
    "plt.xlabel(\"iteration (k)\")\n",
    "plt.tight_layout()\n",
    "plt.show()"
   ]
  },
  {
   "cell_type": "code",
   "execution_count": null,
   "id": "99a0e75f",
   "metadata": {
    "id": "99a0e75f"
   },
   "outputs": [],
   "source": []
  }
 ],
 "metadata": {
  "colab": {
   "include_colab_link": true,
   "provenance": []
  },
  "kernelspec": {
   "display_name": "Python 3 (ipykernel)",
   "language": "python",
   "name": "python3"
  },
  "language_info": {
   "codemirror_mode": {
    "name": "ipython",
    "version": 3
   },
   "file_extension": ".py",
   "mimetype": "text/x-python",
   "name": "python",
   "nbconvert_exporter": "python",
   "pygments_lexer": "ipython3",
   "version": "3.10.10"
  }
 },
 "nbformat": 4,
 "nbformat_minor": 5
}
