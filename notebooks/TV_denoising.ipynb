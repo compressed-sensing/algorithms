{
 "cells": [
  {
   "attachments": {},
   "cell_type": "markdown",
   "metadata": {
    "colab_type": "text",
    "id": "view-in-github"
   },
   "source": [
    "# 2D TV deblurring\n",
    "\n",
    "<a href=\"https://colab.research.google.com/github/compressed-sensing/algorithms/blob/feature%2Fnotebooks/notebooks/TV_denoising.ipynb\" target=\"_parent\"><img src=\"https://colab.research.google.com/assets/colab-badge.svg\" alt=\"Open In Colab\"/></a>"
   ]
  },
  {
   "attachments": {},
   "cell_type": "markdown",
   "metadata": {
    "id": "-v3IqZG92UTb"
   },
   "source": [
    "## Import libraries"
   ]
  },
  {
   "cell_type": "code",
   "execution_count": null,
   "metadata": {
    "id": "L56jXJk2NckF"
   },
   "outputs": [],
   "source": [
    "import numpy as np\n",
    "import cv2\n",
    "from matplotlib import pyplot as plt\n",
    "import scipy.signal as signal\n",
    "from scipy.signal import convolve2d\n",
    "import scipy.fft as fft\n",
    "import urllib.request\n",
    "from skimage.metrics import peak_signal_noise_ratio as PSNR\n",
    "import time"
   ]
  },
  {
   "attachments": {},
   "cell_type": "markdown",
   "metadata": {
    "id": "EjhU0Iub2YAF"
   },
   "source": [
    "## Import image"
   ]
  },
  {
   "cell_type": "code",
   "execution_count": null,
   "metadata": {
    "colab": {
     "base_uri": "https://localhost:8080/",
     "height": 489
    },
    "id": "-h4yjINvOi_-",
    "outputId": "6db609e2-80fa-47d8-9d5e-006a6e30c93c"
   },
   "outputs": [],
   "source": [
    "# Reading image (grayscale)\n",
    "url = \"https://i.stack.imgur.com/kP0u2.png\"\n",
    "# url='https://encrypted-tbn0.gstatic.com/images?q=tbn:ANd9GcSRsK5QFJ1arEQlnHEJ-020xbO30BgdYgPJBg&usqp=CAU'\n",
    "# url='https://unsplash.com/photos/IoZA1Mwiq2g/download?ixid=MnwxMjA3fDB8MXxzZWFyY2h8MTZ8fGJsYWNrJTIwYW5kJTIwd2hpdGUlMjBmbG93ZXJ8ZW58MHx8fHwxNjc5MzQxODY4&force=true&w=640'\n",
    "with urllib.request.urlopen(url) as url_response:\n",
    "    img_array = np.asarray(bytearray(url_response.read()), dtype=np.uint8)\n",
    "    img = cv2.imdecode(img_array, cv2.IMREAD_GRAYSCALE)\n",
    "# img is a 3-dimensional numpy array (third number indicates channel)\n",
    "# Converting to (0,1)\n",
    "x = img.astype(float) / 255.0\n",
    "print(type(img))\n",
    "print(img.shape)\n",
    "plt.imshow(x, cmap=\"gray\")"
   ]
  },
  {
   "attachments": {},
   "cell_type": "markdown",
   "metadata": {
    "id": "uHwSwKqc2fcC"
   },
   "source": [
    "## Define conv and fft functions"
   ]
  },
  {
   "cell_type": "code",
   "execution_count": null,
   "metadata": {
    "id": "cYohlgEgfHt7"
   },
   "outputs": [],
   "source": [
    "# Define some of the operators that we need...\n",
    "def conv2d_fft(x, h):\n",
    "    p0 = x.shape[0] - h.shape[0]\n",
    "    p1 = x.shape[1] - h.shape[1]\n",
    "    h_pad = np.pad(h, ((0, p0), (0, p1)))\n",
    "    Fh = fft.fft2(h_pad)\n",
    "    Fx = fft.fft2(x)\n",
    "    return np.real(fft.ifft2(Fx * Fh))\n",
    "\n",
    "\n",
    "def conv2dT_fft(x, h):\n",
    "    p0 = x.shape[0] - h.shape[0]\n",
    "    p1 = x.shape[1] - h.shape[1]\n",
    "    h_pad = np.pad(h, ((0, p0), (0, p1)))\n",
    "    Fh = fft.fft2(h_pad)\n",
    "    Fx = fft.fft2(x)\n",
    "    return np.real(fft.ifft2(Fx * np.conj(Fh)))"
   ]
  },
  {
   "cell_type": "code",
   "execution_count": null,
   "metadata": {
    "id": "chaGMuaJs8xj"
   },
   "outputs": [],
   "source": [
    "# def conv2d_fft(x, h):\n",
    "#   return convolve2d(x, h, mode='same', boundary='wrap')\n",
    "\n",
    "# def conv2dT_fft(x, h):\n",
    "#   # rotate the kernel by 180 degrees\n",
    "#   h_rotated = np.rot90(np.rot90(h))\n",
    "\n",
    "#   # perform the flipped kernel convolution\n",
    "#   return convolve2d(x, h_rotated, mode='same', boundary='wrap')"
   ]
  },
  {
   "attachments": {},
   "cell_type": "markdown",
   "metadata": {
    "id": "hnlTVaW62nE3"
   },
   "source": [
    "## Noise function"
   ]
  },
  {
   "cell_type": "code",
   "execution_count": null,
   "metadata": {
    "id": "V_hPb30HlU1C"
   },
   "outputs": [],
   "source": [
    "def awgn(img, n):\n",
    "    \"\"\"Generating Gaussian Noise\n",
    "    with 0 mean and standard deviation n\n",
    "    choose n between 0,1 for normalized image\"\"\"\n",
    "\n",
    "    noise = np.random.randn(*img.shape) * n\n",
    "    # Add the noise to the input image\n",
    "    noisy_image = img + noise\n",
    "\n",
    "    return noisy_image"
   ]
  },
  {
   "attachments": {},
   "cell_type": "markdown",
   "metadata": {
    "id": "mskYtr7p2paz"
   },
   "source": [
    "## Add noise to the image"
   ]
  },
  {
   "cell_type": "code",
   "execution_count": null,
   "metadata": {
    "colab": {
     "base_uri": "https://localhost:8080/",
     "height": 443
    },
    "id": "OV8CXqRclrmY",
    "outputId": "9b3d1572-d8bd-44c4-8955-5cf61d54791b"
   },
   "outputs": [],
   "source": [
    "\"\"\"\n",
    "y1 = img + n\n",
    "\"\"\"\n",
    "# Add noise to the image\n",
    "y1 = awgn(x, 0.2)\n",
    "\n",
    "fig = plt.figure(figsize=(15, 15))\n",
    "plt.subplot(121)\n",
    "plt.imshow(x, cmap=\"gray\", clim=[0, 1])\n",
    "plt.title(\"image x\")\n",
    "plt.subplot(122)\n",
    "plt.imshow(y1, cmap=\"gray\", clim=[0, 1])\n",
    "plt.title(\"Noisy image y = img + n\")\n",
    "plt.tight_layout()\n",
    "plt.show()"
   ]
  },
  {
   "attachments": {},
   "cell_type": "markdown",
   "metadata": {
    "id": "_YxvRnTZ231n"
   },
   "source": [
    "## Gradiant operator"
   ]
  },
  {
   "cell_type": "code",
   "execution_count": null,
   "metadata": {
    "colab": {
     "base_uri": "https://localhost:8080/",
     "height": 302
    },
    "id": "4eq9mIIu2M9D",
    "outputId": "2041581a-e4fd-4c87-adb6-bc56990e996d"
   },
   "outputs": [],
   "source": [
    "# define gradient operators\n",
    "\"\"\"\n",
    "I am testing it with y1 for now\n",
    "\"\"\"\n",
    "dh = np.array([[1, -1], [0, 0]])  # horizontal gradient filter\n",
    "dv = np.array([[1, 0], [-1, 0]])  # vertical gradient filter\n",
    "\n",
    "Dh = lambda x: conv2d_fft(x, dh)\n",
    "Dv = lambda x: conv2d_fft(x, dv)\n",
    "\n",
    "DhT = lambda x: conv2dT_fft(x, dh)\n",
    "DvT = lambda x: conv2dT_fft(x, dv)\n",
    "\n",
    "# plot the image x and the gradient images Dh x and Dv x\n",
    "fig = plt.figure(figsize=(15, 15))\n",
    "plt.subplot(131)\n",
    "plt.imshow(x, cmap=\"gray\", clim=[0, 1])\n",
    "plt.title(\"image x\")\n",
    "plt.subplot(132)\n",
    "plt.imshow(np.abs(Dh(y1)), cmap=\"gray\", clim=[0, 1])\n",
    "plt.title(r\"$|D_hx|$\")\n",
    "plt.subplot(133)\n",
    "plt.imshow(np.abs(Dv(y1)), cmap=\"gray\", clim=[0, 1])\n",
    "plt.title(r\"$|D_vx|$\")\n",
    "plt.tight_layout()\n",
    "plt.show()"
   ]
  },
  {
   "attachments": {},
   "cell_type": "markdown",
   "metadata": {
    "id": "sn78eU3X9y4M"
   },
   "source": [
    "## TV-denoising Solver\n",
    "Write TV-denoising formulation with explanation here later"
   ]
  },
  {
   "cell_type": "code",
   "execution_count": null,
   "metadata": {
    "id": "yLpGSm_c3fsR"
   },
   "outputs": [],
   "source": [
    "def TV_denoising(y, lamb=2, rho=1e1, maxiter=200):\n",
    "    \"\"\"\n",
    "    TV-denoising solver to solve\n",
    "    minimize 0.5 |x-y|_2^2 + lambda|Dx|_1\n",
    "    \"\"\"\n",
    "    # define the soft-thresholding function\n",
    "    \"\"\"\n",
    "    In the TVD case we have : \n",
    "    Vector (v): Dx_(k+1) + u_(k)\n",
    "    Threshold (t): lamb/rho\n",
    "    \"\"\"\n",
    "    start = time.time()\n",
    "    soft_thresh = lambda v, t: np.maximum(np.abs(v) - t, 0.0) * np.sign(v)\n",
    "\n",
    "    # DDT\n",
    "    \"\"\"\n",
    "        DDT = please check notes for fourier transform format\n",
    "    \"\"\"\n",
    "    # Calculating the difference between sizes x and d for padding purpose\n",
    "    p0 = x.shape[0] - dh.shape[0]\n",
    "    p1 = x.shape[1] - dh.shape[1]\n",
    "    dh_pad = np.pad(dh, ((0, p0), (0, p1)))\n",
    "\n",
    "    p0 = x.shape[0] - dv.shape[0]\n",
    "    p1 = x.shape[1] - dv.shape[1]\n",
    "    dv_pad = np.pad(dv, ((0, p0), (0, p1)))\n",
    "\n",
    "    # Refer to Parisima's notes for computing DDT using FFT\n",
    "    DDT = np.abs(fft.fft2(dh_pad)) ** 2 + np.abs(fft.fft2(dv_pad)) ** 2\n",
    "\n",
    "    # -----------------------------\n",
    "    # initilize iteration variables\n",
    "    zh = np.zeros_like(y)\n",
    "    zv = np.zeros_like(y)\n",
    "    uh = np.zeros_like(zh)\n",
    "    uv = np.zeros_like(zv)\n",
    "    x_hat = np.zeros_like(y)\n",
    "    # For computing error\n",
    "    J = np.zeros(maxiter)\n",
    "\n",
    "    for k in range(maxiter):\n",
    "        # solve the L2-L2 problem (update x)\n",
    "        rhs = y + rho * (DhT(zh) + DvT(zv)) - DhT(uh) - DvT(uv)\n",
    "        F_rhs = fft.fft2(rhs)\n",
    "        x_hat = np.real(fft.ifft2(F_rhs / (rho * DDT + 1)))\n",
    "\n",
    "        # solve the TV problem (update z)\n",
    "        zh = soft_thresh(Dh(x_hat) + uh, lamb / rho)\n",
    "        zv = soft_thresh(Dv(x_hat) + uv, lamb / rho)\n",
    "\n",
    "        # update u\n",
    "        dual_h = Dh(x_hat) - zh\n",
    "        dual_v = Dv(x_hat) - zv\n",
    "        uh = uh + dual_h\n",
    "        uv = uv + dual_v\n",
    "\n",
    "        # compute the error\n",
    "        J[k] = (dual_h**2).sum() + (dual_v**2).sum()\n",
    "    end = time.time()\n",
    "    return x_hat, J, end - start"
   ]
  },
  {
   "cell_type": "code",
   "execution_count": null,
   "metadata": {
    "colab": {
     "base_uri": "https://localhost:8080/",
     "height": 564
    },
    "id": "rxgu1lPqbgMp",
    "outputId": "686ccf28-03aa-4167-c91b-330920756682"
   },
   "outputs": [],
   "source": [
    "x_hat, J, duration = TV_denoising(y1, lamb=0.2, rho=2, maxiter=50)\n",
    "\n",
    "fig = plt.figure()\n",
    "fig.set_size_inches(5, 7.5)\n",
    "ax = fig.add_subplot(321)\n",
    "ax.imshow(x, cmap=\"gray\", clim=[0, 1])\n",
    "plt.title(\"original image\")\n",
    "ax2 = fig.add_subplot(322)\n",
    "ax2.imshow(y1, cmap=\"gray\", clim=[0, 1])\n",
    "plt.title(\"noisy image\")\n",
    "ax3 = fig.add_subplot(323)\n",
    "ax3.imshow(x_hat, cmap=\"gray\", clim=[0, 1])\n",
    "plt.title(\"recovered image\")\n",
    "ax4 = fig.add_subplot(324)\n",
    "ax4.semilogy(range(len(J)), J, \"b-\", lw=2)\n",
    "plt.title(\"Convergence\")\n",
    "plt.xlabel(\"iteration (k)\")\n",
    "plt.tight_layout()\n",
    "plt.show()\n",
    "print(f\"Time taken = {duration}\")"
   ]
  },
  {
   "cell_type": "code",
   "execution_count": null,
   "metadata": {
    "colab": {
     "base_uri": "https://localhost:8080/",
     "height": 452
    },
    "id": "fTOdKHWVmNDh",
    "outputId": "163b19af-119f-42db-ba37-abc28a02809f"
   },
   "outputs": [],
   "source": [
    "y2 = awgn(x, 0.5)\n",
    "x_hat, J, duration = TV_denoising(y2, lamb=0.7, rho=2, maxiter=50)\n",
    "plt.imshow(x_hat, cmap=\"gray\", clim=[0, 1])\n",
    "print(PSNR(x, x_hat.clip(0, 1)))"
   ]
  },
  {
   "attachments": {},
   "cell_type": "markdown",
   "metadata": {
    "id": "SsRXpd-vfCpe"
   },
   "source": [
    "## Comparession between noise and lambda"
   ]
  },
  {
   "cell_type": "code",
   "execution_count": null,
   "metadata": {
    "colab": {
     "base_uri": "https://localhost:8080/"
    },
    "id": "lpsS6Fdb2FCT",
    "outputId": "db5e9c02-2b32-4928-fe63-69c5618de351"
   },
   "outputs": [],
   "source": [
    "# Loop over for different level of noise and lambda\n",
    "# levels of noise\n",
    "# under construction\n",
    "n = [0.05, 0.1, 0.2, 0.5]\n",
    "lam = np.arange(0.05, 0.51, 0.01)\n",
    "lam = np.concatenate((lam, np.array([0.1, 0.3])))\n",
    "denoised_list = []\n",
    "time_list = []\n",
    "psnr_list = []\n",
    "cost_list = []\n",
    "for i in n:\n",
    "    y = awgn(x, i)\n",
    "    # store images\n",
    "    c = []\n",
    "    # Store J\n",
    "    converg = []\n",
    "    # store psnr\n",
    "    npsnr = []\n",
    "    # store time\n",
    "    ntime = []\n",
    "    for j in lam:\n",
    "        x_hat, J, duration = TV_denoising(y, j, rho=2, maxiter=50)\n",
    "        c.append(x_hat)\n",
    "        converg.append(J)\n",
    "        ntime.append(duration)\n",
    "        npsnr.append(PSNR(x, x_hat.clip(0, 1)))\n",
    "    denoised_list.append(c)\n",
    "    time_list.append(ntime)\n",
    "    psnr_list.append(npsnr)\n",
    "    cost_list.append(converg)\n",
    "    # Plot for different lambda\n",
    "    print(f\"Noise level:{i}\")"
   ]
  },
  {
   "cell_type": "code",
   "execution_count": null,
   "metadata": {
    "colab": {
     "base_uri": "https://localhost:8080/",
     "height": 190
    },
    "id": "3gPvYxwEcr1u",
    "outputId": "09a8f79f-65dc-4935-f3e5-0eeb620c56ef"
   },
   "outputs": [],
   "source": [
    "# Loop over for different level of noise and lambda\n",
    "# levels of noise\n",
    "# under construction\n",
    "n = 0.1\n",
    "lam = [0.05, 0.1, 0.2, 0.5, 0.9]\n",
    "y = awgn(x, n)\n",
    "# store images\n",
    "c = []\n",
    "# Store J\n",
    "converg = []\n",
    "# store psnr\n",
    "npsnr = []\n",
    "# store time\n",
    "ntime = []\n",
    "c = 1\n",
    "fig = plt.figure(figsize=(20, 20))\n",
    "for j in lam:\n",
    "    x_hat, J, duration = TV_denoising(y, j, rho=2, maxiter=50)\n",
    "    plt.subplot(1, 7, c)\n",
    "    plt.imshow(x_hat, cmap=\"gray\", clim=[0, 1])\n",
    "    c = c + 1"
   ]
  },
  {
   "cell_type": "markdown",
   "metadata": {
    "id": "Wbw9RBDFAmUt"
   },
   "source": [
    "Plot PSNR vs $\\lambda$ = (0.05:0.51:0.01) for $\\sigma$ = [0.01, 0.1, 0.5] "
   ]
  },
  {
   "cell_type": "code",
   "execution_count": null,
   "metadata": {
    "colab": {
     "base_uri": "https://localhost:8080/",
     "height": 365
    },
    "id": "xLc5-xM-_Tth",
    "outputId": "a51acf20-3782-4835-ff32-a940ab8988dd"
   },
   "outputs": [],
   "source": [
    "fig = plt.figure(figsize=(20, 6))\n",
    "plt.plot(psnr_list[0][: lam.shape[0] - 2], label=f\"$\\sigma$={n[0]}\")\n",
    "plt.plot(psnr_list[1][: lam.shape[0] - 2], label=f\"$\\sigma$={n[1]}\")\n",
    "plt.plot(psnr_list[-1][: lam.shape[0] - 2], label=f\"$\\sigma$={n[-1]}\")\n",
    "plt.xticks(\n",
    "    np.arange(0, lam.shape[0] - 2, 10),\n",
    "    [f\"{val:.2f}\" for val in lam[: lam.shape[0] - 2 : 10]],\n",
    ")\n",
    "plt.legend()\n",
    "plt.xlabel(\"$\\lambda$\")\n",
    "plt.ylabel(\"PSNR\")\n",
    "plt.show()"
   ]
  },
  {
   "cell_type": "code",
   "execution_count": null,
   "metadata": {
    "colab": {
     "base_uri": "https://localhost:8080/",
     "height": 1000
    },
    "id": "MVkrjFWEENAT",
    "outputId": "b7daa20e-ae1d-4d3b-8b32-115f669479ed"
   },
   "outputs": [],
   "source": [
    "# for k in range(3):\n",
    "#   plt.subplot(1,3,k+1)\n",
    "#   plt.imshow(c[k], cmap='gray')\n",
    "#   plt.title(f'Lambda:{lam[k]}| time:{ntime[k]:.2f}| PSNR:{npsnr[k]:.2f}')\n",
    "#   plt.axis('off')\n",
    "for i in range(len(denoised_list) - 1):\n",
    "    fig = plt.figure(figsize=(18, 18))\n",
    "    plt.subplot(1, 1, 1)\n",
    "    plt.imshow(denoised_list[i][0], cmap=\"gray\")\n",
    "    plt.axis(\"off\")\n",
    "    plt.subplot(1, 1, 2)\n",
    "    plt.axis(\"off\")\n",
    "    plt.imshow(denoised_list[i][-2], cmap=\"gray\")\n",
    "    plt.subplot(1, 1, 3)\n",
    "    plt.imshow(denoised_list[i][-1], cmap=\"gray\")\n",
    "    plt.axis(\"off\")"
   ]
  },
  {
   "cell_type": "code",
   "execution_count": null,
   "metadata": {
    "colab": {
     "base_uri": "https://localhost:8080/",
     "height": 423
    },
    "id": "idJrj6ehLFEL",
    "outputId": "becfd783-de81-442f-dfd3-64fa88b7657b"
   },
   "outputs": [],
   "source": [
    "plt.imshow(denoised_list[0][0], cmap=\"gray\")\n",
    "plt.axis(\"off\")"
   ]
  },
  {
   "cell_type": "code",
   "execution_count": null,
   "metadata": {
    "colab": {
     "base_uri": "https://localhost:8080/",
     "height": 423
    },
    "id": "8GJDU3OVLIt9",
    "outputId": "0ac0d6fa-cbd9-46e8-a5c3-f8185fd56562"
   },
   "outputs": [],
   "source": [
    "plt.imshow(denoised_list[0][-2], cmap=\"gray\")\n",
    "plt.axis(\"off\")"
   ]
  },
  {
   "cell_type": "code",
   "execution_count": null,
   "metadata": {
    "colab": {
     "base_uri": "https://localhost:8080/",
     "height": 423
    },
    "id": "SuSyZWOPLK1k",
    "outputId": "f1f211db-f799-464f-cbae-2ffec1b8e2d2"
   },
   "outputs": [],
   "source": [
    "plt.imshow(denoised_list[0][-1], cmap=\"gray\")\n",
    "plt.axis(\"off\")"
   ]
  },
  {
   "cell_type": "code",
   "execution_count": null,
   "metadata": {
    "colab": {
     "base_uri": "https://localhost:8080/",
     "height": 423
    },
    "id": "RZ3gTv29LRhG",
    "outputId": "6815ea80-7a6c-4fff-ac89-72c8a56db2ff"
   },
   "outputs": [],
   "source": [
    "plt.imshow(denoised_list[1][0], cmap=\"gray\")\n",
    "plt.axis(\"off\")"
   ]
  },
  {
   "cell_type": "code",
   "execution_count": null,
   "metadata": {
    "colab": {
     "base_uri": "https://localhost:8080/",
     "height": 423
    },
    "id": "N4rAlFJ8LUbg",
    "outputId": "a14f28c5-0e9a-4b28-d40d-4466e8b316d4"
   },
   "outputs": [],
   "source": [
    "plt.imshow(denoised_list[1][-2], cmap=\"gray\")\n",
    "plt.axis(\"off\")"
   ]
  },
  {
   "cell_type": "code",
   "execution_count": null,
   "metadata": {
    "colab": {
     "base_uri": "https://localhost:8080/",
     "height": 423
    },
    "id": "sYEpIlcQLWUX",
    "outputId": "29d2ece4-dc99-4c01-a751-7a2e5fae831f"
   },
   "outputs": [],
   "source": [
    "plt.imshow(denoised_list[1][-1], cmap=\"gray\")\n",
    "plt.axis(\"off\")"
   ]
  },
  {
   "cell_type": "code",
   "execution_count": null,
   "metadata": {
    "colab": {
     "base_uri": "https://localhost:8080/",
     "height": 423
    },
    "id": "b9hD9b11LZIp",
    "outputId": "05fbc5dc-dad2-4510-812b-e7346be46e06"
   },
   "outputs": [],
   "source": [
    "plt.imshow(denoised_list[2][0], cmap=\"gray\")\n",
    "plt.axis(\"off\")"
   ]
  },
  {
   "cell_type": "code",
   "execution_count": null,
   "metadata": {
    "colab": {
     "base_uri": "https://localhost:8080/",
     "height": 423
    },
    "id": "Vb1iQUzhLboq",
    "outputId": "c18cbd89-f1cc-4da9-b5c9-486f8a73950a"
   },
   "outputs": [],
   "source": [
    "plt.imshow(denoised_list[2][-2], cmap=\"gray\")\n",
    "plt.axis(\"off\")"
   ]
  },
  {
   "cell_type": "code",
   "execution_count": null,
   "metadata": {
    "colab": {
     "base_uri": "https://localhost:8080/",
     "height": 423
    },
    "id": "H8inuJcaLbyv",
    "outputId": "119fc314-fa2e-4434-b551-b369d7ba3fb4"
   },
   "outputs": [],
   "source": [
    "plt.imshow(denoised_list[2][-1], cmap=\"gray\")\n",
    "plt.axis(\"off\")"
   ]
  },
  {
   "cell_type": "code",
   "execution_count": null,
   "metadata": {
    "colab": {
     "base_uri": "https://localhost:8080/"
    },
    "id": "sdA87ziOt1D4",
    "outputId": "49ad4066-87cf-4951-b507-e1c42c9d1e7a"
   },
   "outputs": [],
   "source": [
    "psnr_list[0][0]"
   ]
  },
  {
   "cell_type": "code",
   "execution_count": null,
   "metadata": {
    "colab": {
     "base_uri": "https://localhost:8080/"
    },
    "id": "MstvcUJRurU5",
    "outputId": "7ec1e0cc-c080-4262-d9ee-96913bf575e6"
   },
   "outputs": [],
   "source": [
    "psnr_list[0][-2]"
   ]
  },
  {
   "cell_type": "code",
   "execution_count": null,
   "metadata": {
    "colab": {
     "base_uri": "https://localhost:8080/"
    },
    "id": "a2R_EZv7uscq",
    "outputId": "31bf1f3d-781e-4a4f-bd02-6f64ed14e3e4"
   },
   "outputs": [],
   "source": [
    "psnr_list[0][-1]"
   ]
  },
  {
   "cell_type": "code",
   "execution_count": null,
   "metadata": {
    "colab": {
     "base_uri": "https://localhost:8080/"
    },
    "id": "jzPi2UH4uuBE",
    "outputId": "ce0842e5-3c21-47c4-ce0f-ad7c5aa531b8"
   },
   "outputs": [],
   "source": [
    "psnr_list[1][0]"
   ]
  },
  {
   "cell_type": "code",
   "execution_count": null,
   "metadata": {
    "colab": {
     "base_uri": "https://localhost:8080/"
    },
    "id": "-E3Ug2xiuvyV",
    "outputId": "686e4651-5ca6-444e-b418-9397d00b614f"
   },
   "outputs": [],
   "source": [
    "psnr_list[1][-2]"
   ]
  },
  {
   "cell_type": "code",
   "execution_count": null,
   "metadata": {
    "colab": {
     "base_uri": "https://localhost:8080/"
    },
    "id": "IoedMtoUuxe_",
    "outputId": "b49d5015-6d39-4531-fd43-e0d721e1677e"
   },
   "outputs": [],
   "source": [
    "psnr_list[1][-1]"
   ]
  },
  {
   "cell_type": "code",
   "execution_count": null,
   "metadata": {
    "colab": {
     "base_uri": "https://localhost:8080/"
    },
    "id": "QXiO1h_gu5f-",
    "outputId": "2cf9c0f6-4f72-4a18-e5a8-7b7caa0c75d7"
   },
   "outputs": [],
   "source": [
    "psnr_list[2][0]"
   ]
  },
  {
   "cell_type": "code",
   "execution_count": null,
   "metadata": {
    "colab": {
     "base_uri": "https://localhost:8080/"
    },
    "id": "O0-1khU8u7bq",
    "outputId": "ee98a426-cb29-49ac-8d25-4bc61469434e"
   },
   "outputs": [],
   "source": [
    "psnr_list[2][-2]"
   ]
  },
  {
   "cell_type": "code",
   "execution_count": null,
   "metadata": {
    "colab": {
     "base_uri": "https://localhost:8080/"
    },
    "id": "YFbXtU-ou-BH",
    "outputId": "95992ffb-cf23-4289-d3da-a2fe66497c08"
   },
   "outputs": [],
   "source": [
    "psnr_list[2][-1]"
   ]
  }
 ],
 "metadata": {
  "colab": {
   "include_colab_link": true,
   "provenance": []
  },
  "kernelspec": {
   "display_name": "Python 3",
   "name": "python3"
  },
  "language_info": {
   "name": "python"
  }
 },
 "nbformat": 4,
 "nbformat_minor": 0
}
